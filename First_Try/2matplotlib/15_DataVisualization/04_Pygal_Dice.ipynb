{
 "cells": [
  {
   "cell_type": "code",
   "execution_count": null,
   "metadata": {},
   "outputs": [],
   "source": [
    "!pip3 install pygal\n",
    "#pip install matplotlib"
   ]
  },
  {
   "cell_type": "code",
   "execution_count": 2,
   "metadata": {},
   "outputs": [],
   "source": [
    "#Creating Die Class\n",
    "\n",
    "from random import randint\n",
    "\n",
    "class Die():\n",
    "    \n",
    "    def __init__(self , num_sides = 6):\n",
    "        self.num_sides = num_sides\n",
    "    \n",
    "    def roll(self):\n",
    "        return randint(1, self.num_sides)"
   ]
  },
  {
   "cell_type": "code",
   "execution_count": 3,
   "metadata": {
    "scrolled": true
   },
   "outputs": [
    {
     "name": "stdout",
     "output_type": "stream",
     "text": [
      "[6, 5, 1, 1, 6, 2, 1, 4, 5, 5, 2, 3, 3, 3, 1]\n",
      "[4, 2, 3, 1, 3, 2]\n"
     ]
    }
   ],
   "source": [
    "\n",
    "#from die import Die\n",
    "\n",
    "die = Die()\n",
    "\n",
    "results = []\n",
    "\n",
    "for roll_num in range(15):\n",
    "    result = die.roll()\n",
    "    results.append(result)\n",
    "    \n",
    "#Analyze the results\n",
    "\n",
    "\n",
    "print(results)\n",
    "\n",
    "frequencies = []\n",
    "for value in range(1 , die.num_sides+1):\n",
    "    frequency = results.count(value)\n",
    "    frequencies.append(frequency)\n",
    "\n",
    "print(frequencies)\n"
   ]
  },
  {
   "cell_type": "code",
   "execution_count": 5,
   "metadata": {},
   "outputs": [],
   "source": [
    "#Making Histogram\n",
    "import pygal\n",
    "hist = pygal.Bar()\n",
    "\n",
    "hist.add('D6' , frequencies)\n",
    "hist.render_to_file('abc.svg')"
   ]
  },
  {
   "cell_type": "code",
   "execution_count": null,
   "metadata": {},
   "outputs": [],
   "source": []
  },
  {
   "cell_type": "code",
   "execution_count": null,
   "metadata": {},
   "outputs": [],
   "source": []
  }
 ],
 "metadata": {
  "kernelspec": {
   "display_name": "Python 3",
   "language": "python",
   "name": "python3"
  },
  "language_info": {
   "codemirror_mode": {
    "name": "ipython",
    "version": 3
   },
   "file_extension": ".py",
   "mimetype": "text/x-python",
   "name": "python",
   "nbconvert_exporter": "python",
   "pygments_lexer": "ipython3",
   "version": "3.8.5"
  }
 },
 "nbformat": 4,
 "nbformat_minor": 2
}
