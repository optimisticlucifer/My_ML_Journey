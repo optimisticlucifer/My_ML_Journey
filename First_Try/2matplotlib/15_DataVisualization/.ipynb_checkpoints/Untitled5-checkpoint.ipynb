{
 "cells": [
  {
   "cell_type": "code",
   "execution_count": 1,
   "metadata": {},
   "outputs": [],
   "source": [
    "from random import choice\n",
    "\n",
    "class RandomWalk():\n",
    "    \"\"\" A class to generate random walks\"\"\"\n",
    "    \n",
    "    def __init__(self , num_points = 5000):\n",
    "        \"\"\"Initalize attributes of a walk\"\"\"\n",
    "        \n",
    "        self.num_points = num_points\n",
    "        \n",
    "        self.x_values = [0]\n",
    "        self.y_values = [0]\n",
    "        \n",
    "        #All walks start at(0 , 0)\n",
    "        \n",
    "        #Choosing Directions\n",
    "\n",
    "    def fill_walk(self):\n",
    "        \"\"\"Calculate all the points in a walk\"\"\"\n",
    "    \n",
    "        #Keep taking steps until the walk reaches the desired length\n",
    "        while len(self.x_values) < self.num_points:\n",
    "        \n",
    "            #Decide  which direction to go and how far to go in that direction\n",
    "        \n",
    "            x_direction = choice([1, -1])\n",
    "            x_distance = choice([0,1,2,3,4])\n",
    "            x_step = x_direction * x_distance\n",
    "\n",
    "            y_direction = choice([1, -1])\n",
    "            y_distance = choice([0,1,2,3,4])\n",
    "            y_step = y_direction * y_distance\n",
    "\n",
    "            #Reject moves that goes no where\n",
    "            if x_step == 0 and y_step == 0:\n",
    "                continue\n",
    "\n",
    "            #Calculate the next x and y values.\n",
    "            next_x = self.x_values[-1] +x_step\n",
    "            next_y = self.y_values[-1] + y_step\n",
    "\n",
    "            self.x_values.append(next_x)\n",
    "            self.y_values.append(next_y)\n",
    "\n",
    "\n",
    "\n"
   ]
  },
  {
   "cell_type": "code",
   "execution_count": null,
   "metadata": {},
   "outputs": [
    {
     "data": {
      "text/plain": [
       "<Figure size 640x480 with 1 Axes>"
      ]
     },
     "metadata": {},
     "output_type": "display_data"
    },
    {
     "name": "stdout",
     "output_type": "stream",
     "text": [
      "Make another walk ? ( y /n) :y\n"
     ]
    },
    {
     "data": {
      "text/plain": [
       "<Figure size 640x480 with 1 Axes>"
      ]
     },
     "metadata": {},
     "output_type": "display_data"
    },
    {
     "name": "stdout",
     "output_type": "stream",
     "text": [
      "Make another walk ? ( y /n) :y\n"
     ]
    },
    {
     "data": {
      "text/plain": [
       "<Figure size 640x480 with 1 Axes>"
      ]
     },
     "metadata": {},
     "output_type": "display_data"
    },
    {
     "name": "stdout",
     "output_type": "stream",
     "text": [
      "Make another walk ? ( y /n) :y\n"
     ]
    },
    {
     "data": {
      "text/plain": [
       "<Figure size 640x480 with 1 Axes>"
      ]
     },
     "metadata": {},
     "output_type": "display_data"
    }
   ],
   "source": [
    "#Plotting the Random walk\n",
    "import matplotlib.pyplot as plt\n",
    "\n",
    "#from random_walk import RandomWalk\n",
    "\n",
    "#Keep running new walks\n",
    "while True:\n",
    "\n",
    "    rw = RandomWalk(300)\n",
    "    rw.fill_walk()\n",
    "\n",
    "    plt.scatter(rw.x_values , rw.y_values)\n",
    "    plt.show()\n",
    "    \n",
    "    keep_running = input(\"Make another walk ? ( y /n) :\")\n",
    "    if keep_running == 'n':\n",
    "        break\n"
   ]
  },
  {
   "cell_type": "code",
   "execution_count": null,
   "metadata": {},
   "outputs": [],
   "source": []
  }
 ],
 "metadata": {
  "kernelspec": {
   "display_name": "Python 3",
   "language": "python",
   "name": "python3"
  },
  "language_info": {
   "codemirror_mode": {
    "name": "ipython",
    "version": 3
   },
   "file_extension": ".py",
   "mimetype": "text/x-python",
   "name": "python",
   "nbconvert_exporter": "python",
   "pygments_lexer": "ipython3",
   "version": "3.7.4"
  }
 },
 "nbformat": 4,
 "nbformat_minor": 2
}
