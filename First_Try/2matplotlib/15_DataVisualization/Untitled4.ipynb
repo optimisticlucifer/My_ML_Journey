{
 "cells": [
  {
   "cell_type": "code",
   "execution_count": 1,
   "metadata": {},
   "outputs": [],
   "source": [
    "from random import choice\n",
    "\n",
    "class RandomWalk():\n",
    "    \"\"\"A class to generate random walk\"\"\"\n",
    "    \n",
    "    def __init__(self, num_points = 5000):\n",
    "        \"\"\"Initialize attributes of a walk\"\"\"\n",
    "        self.num_points = num_points\n",
    "        \n",
    "        #All the walks should start at origin\n",
    "        \n",
    "        self.x_values = [0]\n",
    "        self.y_values = [0]\n",
    "        \n",
    "    def fill_walk(self):\n",
    "        \"\"\"Calculate all the points\"\"\"\n",
    "        \n",
    "        #keep taking steps until I reach my desired length\n",
    "        while len(self.x_values) < self.num_points:\n",
    "            \n",
    "            #decide the direction and length the point is going to cover\n",
    "            x_direction = choice([1,-1])\n",
    "            x_distance = choice([0,1,2,3,4])\n",
    "            x_step = x_direction *x_distance\n",
    "            \n",
    "            y_direction = choice([1,-1])\n",
    "            y_distance = choice([0,1,2,3,4])\n",
    "            y_step = y_direction *y_distance\n",
    "            \n",
    "            #reject the moves that goes no where\n",
    "            if x_step == 0 and y_step == 0:\n",
    "                continue\n",
    "                \n",
    "            \n",
    "            #Calculate the next x and y values\n",
    "            \n",
    "            next_x = self.x_values[-1] + x_step\n",
    "            next_y = self.y_values[-1] + y_step\n",
    "            \n",
    "            self.x_values.append(next_x)\n",
    "            self.y_values.append(next_y)\n",
    "            \n",
    "            \n",
    "            "
   ]
  },
  {
   "cell_type": "code",
   "execution_count": null,
   "metadata": {},
   "outputs": [
    {
     "data": {
      "image/png": "[encoded data removed]",
      "text/plain": [
       "<Figure size 432x288 with 1 Axes>"
      ]
     },
     "metadata": {
      "needs_background": "light"
     },
     "output_type": "display_data"
    }
   ],
   "source": [
    "import matplotlib.pyplot as plt\n",
    "\n",
    "while True:\n",
    "    \n",
    "    rw = RandomWalk(50)\n",
    "    rw.fill_walk()\n",
    "    plt.scatter(rw.x_values , rw.y_values)\n",
    "    \n",
    "    plt.scatter(0 ,0 , c =\"red\", s = 100)\n",
    "    plt.show()\n",
    "    \n",
    "    \n",
    "    keep_running = input(\"Do you want another walk(y/n): \")\n",
    "    if keep_running == 'n':\n",
    "        break"
   ]
  },
  {
   "cell_type": "code",
   "execution_count": null,
   "metadata": {},
   "outputs": [],
   "source": []
  }
 ],
 "metadata": {
  "kernelspec": {
   "display_name": "Python 3",
   "language": "python",
   "name": "python3"
  },
  "language_info": {
   "codemirror_mode": {
    "name": "ipython",
    "version": 3
   },
   "file_extension": ".py",
   "mimetype": "text/x-python",
   "name": "python",
   "nbconvert_exporter": "python",
   "pygments_lexer": "ipython3",
   "version": "3.7.4"
  }
 },
 "nbformat": 4,
 "nbformat_minor": 2
}
