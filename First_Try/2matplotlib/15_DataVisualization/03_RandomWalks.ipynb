{
 "cells": [
  {
   "cell_type": "code",
   "execution_count": 3,
   "metadata": {},
   "outputs": [],
   "source": [
    "#Creating random walk() class\n",
    "\n",
    "class RandomWalk():\n",
    "    \"\"\" A class to generate random walks.\"\"\"\n",
    "    \n",
    "    def __init__(self , num_points = 5000):\n",
    "        \"\"\"\"Initialize attributes of a walk.\"\"\"\n",
    "        self.num_points = num_points\n",
    "        \n",
    "        #All walks start at (0,0)\n",
    "        self.x_values = [0]\n",
    "        self.y_values = [0]\n",
    "        \n",
    "    #Choosing Directions\n",
    "    def fill_walk(self):\n",
    "        \"\"\"Calculate all the points in Walk\"\"\"\n",
    "        #keep taking steps until the walk reaches the desired length\n",
    "        while len(self.x_values) < self.num_points:\n",
    "            #Decide direction and distance\n",
    "            \n",
    "            x_direction = choice([ 1, -1])\n",
    "            x_distance = choice([0 , 1, 2, 3 ,4])\n",
    "            x_step = x_direction * x_distance\n",
    "            \n",
    "            y_direction = choice([ 1, -1])\n",
    "            y_distance = choice([0 , 1, 2, 3 ,4])\n",
    "            y_step = y_direction * y_distance\n",
    "            \n",
    "            #Reject moves that go nowhere\n",
    "            if x_step == 0 and y_step ==0:\n",
    "                continue\n",
    "                \n",
    "            #Calculate the next x and y values\n",
    "            next_x = self.x_values[-1] + x_step\n",
    "            next_y = self.y_values[-1] + y_step\n",
    "            \n",
    "            \n",
    "            self.x_values.append(next_x)\n",
    "            self.y_values.append(next_y)"
   ]
  },
  {
   "cell_type": "code",
   "execution_count": 4,
   "metadata": {},
   "outputs": [
    {
     "data": {
      "text/plain": [
       "<matplotlib.collections.PathCollection at 0x1f462e28b48>"
      ]
     },
     "execution_count": 4,
     "metadata": {},
     "output_type": "execute_result"
    },
    {
     "data": {
      "image/png": "[encoded data removed]",
      "text/plain": [
       "<Figure size 432x288 with 1 Axes>"
      ]
     },
     "metadata": {
      "needs_background": "light"
     },
     "output_type": "display_data"
    }
   ],
   "source": [
    "#Plotting Random Walk\n",
    "import matplotlib.pyplot as plt\n",
    "from random import choice\n",
    "#from random_walk import RandomWalk\n",
    "\n",
    "#Make a random walk, and plot the points.\n",
    "\n",
    "#while True:\n",
    "    \n",
    "rw = RandomWalk(5)\n",
    "rw.fill_walk()\n",
    "plt.scatter(rw.x_values , rw.y_values , s =15)\n",
    "    \n",
    "plt.scatter( 0,0, c ='green' , s = 100)\n",
    "plt.scatter(rw.x_values[-1] , rw.y_values[-1] , c = \"red\" , s = 100)\n",
    "#plt.show()\n",
    "    \n",
    "    #keep_running = input(\"Make another Walk?(y/n) : \")\n",
    "    #if keep_running == 'n':\n",
    "    #    break"
   ]
  },
  {
   "cell_type": "code",
   "execution_count": 5,
   "metadata": {},
   "outputs": [
    {
     "name": "stdout",
     "output_type": "stream",
     "text": [
      "Requirement already satisfied: matplotlib in c:\\programdata\\anaconda3\\lib\\site-packages (3.1.1)\n",
      "Requirement already satisfied: cycler>=0.10 in c:\\programdata\\anaconda3\\lib\\site-packages (from matplotlib) (0.10.0)\n",
      "Requirement already satisfied: kiwisolver>=1.0.1 in c:\\programdata\\anaconda3\\lib\\site-packages (from matplotlib) (1.1.0)\n",
      "Requirement already satisfied: pyparsing!=2.0.4,!=2.1.2,!=2.1.6,>=2.0.1 in c:\\programdata\\anaconda3\\lib\\site-packages (from matplotlib) (2.4.2)\n",
      "Requirement already satisfied: python-dateutil>=2.1 in c:\\programdata\\anaconda3\\lib\\site-packages (from matplotlib) (2.8.0)\n",
      "Requirement already satisfied: numpy>=1.11 in c:\\users\\daman virdi\\appdata\\roaming\\python\\python37\\site-packages (from matplotlib) (1.19.4)\n",
      "Requirement already satisfied: six in c:\\users\\daman virdi\\appdata\\roaming\\python\\python37\\site-packages (from cycler>=0.10->matplotlib) (1.15.0)\n",
      "Requirement already satisfied: setuptools in c:\\users\\daman virdi\\appdata\\roaming\\python\\python37\\site-packages (from kiwisolver>=1.0.1->matplotlib) (51.1.1)\n",
      "Note: you may need to restart the kernel to use updated packages.\n"
     ]
    }
   ],
   "source": [
    "pip install matplotlib"
   ]
  },
  {
   "cell_type": "code",
   "execution_count": null,
   "metadata": {},
   "outputs": [],
   "source": []
  }
 ],
 "metadata": {
  "kernelspec": {
   "display_name": "Python 3",
   "language": "python",
   "name": "python3"
  },
  "language_info": {
   "codemirror_mode": {
    "name": "ipython",
    "version": 3
   },
   "file_extension": ".py",
   "mimetype": "text/x-python",
   "name": "python",
   "nbconvert_exporter": "python",
   "pygments_lexer": "ipython3",
   "version": "3.7.4"
  }
 },
 "nbformat": 4,
 "nbformat_minor": 2
}
