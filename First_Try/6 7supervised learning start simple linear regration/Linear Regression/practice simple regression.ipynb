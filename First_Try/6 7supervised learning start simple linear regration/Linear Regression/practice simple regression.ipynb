{
 "cells": [
  {
   "cell_type": "code",
   "execution_count": 3,
   "metadata": {},
   "outputs": [],
   "source": [
    "import numpy as np\n",
    "import matplotlib.pyplot as plt\n",
    "import pandas as pd"
   ]
  },
  {
   "cell_type": "code",
   "execution_count": 4,
   "metadata": {},
   "outputs": [],
   "source": [
    "dataset=pd.read_csv('House_Price_Data1.csv')"
   ]
  },
  {
   "cell_type": "code",
   "execution_count": 5,
   "metadata": {},
   "outputs": [],
   "source": [
    "X=dataset.iloc[:,:-1].values\n",
    "Y=dataset.iloc[:,-1].values"
   ]
  },
  {
   "cell_type": "code",
   "execution_count": 7,
   "metadata": {},
   "outputs": [
    {
     "data": {
      "text/plain": [
       "array([[ 1.1,  1. ],\n",
       "       [ 1.3,  3. ],\n",
       "       [ 1.5,  5. ],\n",
       "       [ 2. ,  2. ],\n",
       "       [ 2.2,  4. ],\n",
       "       [ 2.9,  2. ],\n",
       "       [ 3. ,  5. ],\n",
       "       [ 3.2,  2. ],\n",
       "       [ 3.2,  4. ],\n",
       "       [ 3.7,  2. ],\n",
       "       [ 3.9,  5. ],\n",
       "       [ 4. ,  2. ],\n",
       "       [ 4. ,  4. ],\n",
       "       [ 4.1,  2. ],\n",
       "       [ 4.5,  3. ],\n",
       "       [ 4.9,  4. ],\n",
       "       [ 5.1,  2. ],\n",
       "       [ 5.3,  4. ],\n",
       "       [ 5.9,  2. ],\n",
       "       [ 6. ,  5. ],\n",
       "       [ 6.8,  7. ],\n",
       "       [ 7.1,  8. ],\n",
       "       [ 7.9,  3. ],\n",
       "       [ 8.2,  1. ],\n",
       "       [ 8.7,  4. ],\n",
       "       [ 9. ,  6. ],\n",
       "       [ 9.5,  7. ],\n",
       "       [ 9.6,  4. ],\n",
       "       [10.3,  2. ],\n",
       "       [10.5,  5. ]])"
      ]
     },
     "execution_count": 7,
     "metadata": {},
     "output_type": "execute_result"
    }
   ],
   "source": [
    "X"
   ]
  },
  {
   "cell_type": "code",
   "execution_count": 9,
   "metadata": {},
   "outputs": [],
   "source": [
    "from sklearn.model_selection import train_test_split\n",
    "X_train, X_test,Y_train,Y_test=train_test_split(X,Y,test_size=1/4,random_state=0)"
   ]
  },
  {
   "cell_type": "code",
   "execution_count": 10,
   "metadata": {},
   "outputs": [
    {
     "data": {
      "text/plain": [
       "array([ 37731, 122391,  57081,  63218, 116969, 109431, 112635,  55794])"
      ]
     },
     "execution_count": 10,
     "metadata": {},
     "output_type": "execute_result"
    }
   ],
   "source": [
    "Y_test"
   ]
  },
  {
   "cell_type": "code",
   "execution_count": 11,
   "metadata": {},
   "outputs": [
    {
     "data": {
      "text/plain": [
       "LinearRegression()"
      ]
     },
     "execution_count": 11,
     "metadata": {},
     "output_type": "execute_result"
    }
   ],
   "source": [
    "from sklearn.linear_model import LinearRegression\n",
    "regressor=LinearRegression()\n",
    "regressor.fit(X_train,Y_train)"
   ]
  },
  {
   "cell_type": "code",
   "execution_count": 12,
   "metadata": {
    "scrolled": true
   },
   "outputs": [
    {
     "data": {
      "text/plain": [
       "array([ 41896.0745829 , 122483.45686882,  64988.73383833,  64152.09640115,\n",
       "       116761.50134221, 108324.79635511, 116670.80453695,  64061.3995959 ])"
      ]
     },
     "execution_count": 12,
     "metadata": {},
     "output_type": "execute_result"
    }
   ],
   "source": [
    "Y_pred = regressor.predict(X_test)\n",
    "Y_pred"
   ]
  },
  {
   "cell_type": "code",
   "execution_count": 13,
   "metadata": {
    "scrolled": true
   },
   "outputs": [
    {
     "data": {
      "text/plain": [
       "array([ 37731, 122391,  57081,  63218, 116969, 109431, 112635,  55794])"
      ]
     },
     "execution_count": 13,
     "metadata": {},
     "output_type": "execute_result"
    }
   ],
   "source": [
    "Y_test"
   ]
  },
  {
   "cell_type": "code",
   "execution_count": 16,
   "metadata": {},
   "outputs": [],
   "source": [
    "#predicting our own values\n",
    "pred_eg=regressor.predict([[44,2],[55,6]])"
   ]
  },
  {
   "cell_type": "code",
   "execution_count": 17,
   "metadata": {},
   "outputs": [
    {
     "data": {
      "text/plain": [
       "array([434995.09656684, 538359.23796409])"
      ]
     },
     "execution_count": 17,
     "metadata": {},
     "output_type": "execute_result"
    }
   ],
   "source": [
    "pred_eg"
   ]
  },
  {
   "cell_type": "code",
   "execution_count": 21,
   "metadata": {},
   "outputs": [
    {
     "name": "stdout",
     "output_type": "stream",
     "text": [
      "[4. 2.]\n",
      "\n",
      "\n",
      "<class 'numpy.ndarray'>\n",
      "\n",
      "\n",
      "55794\n",
      "\n",
      "\n",
      "64061.39959589813\n"
     ]
    }
   ],
   "source": [
    "print(X_test[7])\n",
    "print(\"\\n\")\n",
    "Y_pred = regressor.predict(X_test)\n",
    "print(type(Y_pred))\n",
    "print(\"\\n\")\n",
    "print(Y_test[7])\n",
    "print(\"\\n\")\n",
    "print(Y_pred[7])"
   ]
  },
  {
   "cell_type": "code",
   "execution_count": 23,
   "metadata": {},
   "outputs": [
    {
     "data": {
      "text/plain": [
       "array([[ 5.3,  4. ],\n",
       "       [ 7.9,  3. ],\n",
       "       [ 2.9,  2. ],\n",
       "       [ 5.1,  2. ],\n",
       "       [ 3.2,  4. ],\n",
       "       [ 4.5,  3. ],\n",
       "       [ 8.2,  1. ],\n",
       "       [ 6.8,  7. ],\n",
       "       [ 1.3,  3. ],\n",
       "       [10.5,  5. ],\n",
       "       [ 3. ,  5. ],\n",
       "       [ 2.2,  4. ],\n",
       "       [ 5.9,  2. ],\n",
       "       [ 6. ,  5. ],\n",
       "       [ 3.7,  2. ],\n",
       "       [ 3.2,  2. ],\n",
       "       [ 9. ,  6. ],\n",
       "       [ 2. ,  2. ],\n",
       "       [ 1.1,  1. ],\n",
       "       [ 7.1,  8. ],\n",
       "       [ 4.9,  4. ],\n",
       "       [ 4. ,  4. ]])"
      ]
     },
     "execution_count": 23,
     "metadata": {},
     "output_type": "execute_result"
    }
   ],
   "source": [
    "X_train"
   ]
  },
  {
   "cell_type": "code",
   "execution_count": 24,
   "metadata": {},
   "outputs": [
    {
     "data": {
      "text/plain": [
       "array([ 83088, 101302,  56642,  66029,  64445,  61111, 113812,  91738,\n",
       "        46205, 121872,  60150,  39891,  81363,  93940,  57189,  54445,\n",
       "       105582,  43525,  39343,  98273,  67938,  56957])"
      ]
     },
     "execution_count": 24,
     "metadata": {},
     "output_type": "execute_result"
    }
   ],
   "source": [
    "Y_train"
   ]
  },
  {
   "cell_type": "code",
   "execution_count": 33,
   "metadata": {},
   "outputs": [
    {
     "data": {
      "image/png": "[encoded data removed]",
      "text/plain": [
       "<Figure size 432x288 with 1 Axes>"
      ]
     },
     "metadata": {
      "needs_background": "light"
     },
     "output_type": "display_data"
    }
   ],
   "source": [
    "plt.scatter(X_train[:,0:1],Y_train,color='red')\n",
    "plt.plot(X_train[:,0:1],regressor.predict(X_train),color=\"blue\")\n",
    "plt.title('House Price (Test set)')\n",
    "plt.xlabel('Size of House')\n",
    "plt.ylabel('Price')\n",
    "plt.show()"
   ]
  },
  {
   "cell_type": "code",
   "execution_count": 48,
   "metadata": {},
   "outputs": [
    {
     "data": {
      "image/png": "[encoded data removed]",
      "text/plain": [
       "<Figure size 432x288 with 1 Axes>"
      ]
     },
     "metadata": {
      "needs_background": "light"
     },
     "output_type": "display_data"
    }
   ],
   "source": [
    "plt.scatter(X_test[:,0:1], Y_test, color = 'red')\n",
    "plt.plot(X_test[:,0:1], regressor.predict(X_test), color = 'blue')\n",
    "plt.title('House Price (Test set)')\n",
    "plt.xlabel('Size of House')\n",
    "plt.ylabel('Price')\n",
    "plt.show()"
   ]
  },
  {
   "cell_type": "code",
   "execution_count": 49,
   "metadata": {},
   "outputs": [
    {
     "name": "stdout",
     "output_type": "stream",
     "text": [
      "[128974.79656581]\n"
     ]
    }
   ],
   "source": [
    "print(regressor.predict([[11,2]]))"
   ]
  },
  {
   "cell_type": "code",
   "execution_count": 54,
   "metadata": {},
   "outputs": [
    {
     "name": "stdout",
     "output_type": "stream",
     "text": [
      "[9273.34242427  339.34368256]\n",
      "26289.342533682604\n"
     ]
    }
   ],
   "source": [
    "print(regressor.coef_)\n",
    "print(regressor.intercept_)"
   ]
  },
  {
   "cell_type": "code",
   "execution_count": null,
   "metadata": {},
   "outputs": [],
   "source": []
  }
 ],
 "metadata": {
  "kernelspec": {
   "display_name": "Python 3",
   "language": "python",
   "name": "python3"
  },
  "language_info": {
   "codemirror_mode": {
    "name": "ipython",
    "version": 3
   },
   "file_extension": ".py",
   "mimetype": "text/x-python",
   "name": "python",
   "nbconvert_exporter": "python",
   "pygments_lexer": "ipython3",
   "version": "3.8.5"
  }
 },
 "nbformat": 4,
 "nbformat_minor": 4
}
