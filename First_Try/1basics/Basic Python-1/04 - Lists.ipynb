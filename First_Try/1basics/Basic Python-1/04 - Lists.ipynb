{
 "cells": [
  {
   "cell_type": "markdown",
   "metadata": {},
   "source": [
    "Lists"
   ]
  },
  {
   "cell_type": "markdown",
   "metadata": {},
   "source": [
    "Lists can be thought of the most general version of a sequence in Python. Unlike strings, they are mutable, meaning the elements inside a list can be changed!\n"
   ]
  },
  {
   "cell_type": "markdown",
   "metadata": {},
   "source": [
    "List is a collection of items in a particular order"
   ]
  },
  {
   "cell_type": "markdown",
   "metadata": {},
   "source": [
    "You can put anything in a list, and items in the list need not be related to each other"
   ]
  },
  {
   "cell_type": "markdown",
   "metadata": {},
   "source": [
    "1.) Creating Lists\n",
    "2.) Accessing Lists\n",
    "3.) Indexing and Slicing Lists\n",
    "4.) Basic List Methods\n",
    "5.) Nesting Lists\n",
    "6.) Introduction to List Comprehensions"
   ]
  },
  {
   "cell_type": "code",
   "execution_count": 3,
   "metadata": {},
   "outputs": [
    {
     "name": "stdout",
     "output_type": "stream",
     "text": [
      "[1, 2, 3, 4, 5, 6, 'Daman', [2, 5]]\n",
      "<class 'list'>\n"
     ]
    }
   ],
   "source": [
    "#Creating Lists\n",
    "my_list =[1 , 2 , 3, 4, 5 , 6 ,\"Daman\" ,[2,5] ]\n",
    "print(my_list)\n",
    "print(type(my_list))\n",
    "\n"
   ]
  },
  {
   "cell_type": "code",
   "execution_count": 9,
   "metadata": {},
   "outputs": [
    {
     "name": "stdout",
     "output_type": "stream",
     "text": [
      "<class 'str'>\n",
      "<class 'list'>\n",
      "[]\n"
     ]
    }
   ],
   "source": [
    "bicycles = ['trek' , 'cannondale' , 'redline',\"specialized\"]\n",
    "x1 = bicycles [0 ]\n",
    "print(type(x1))\n",
    "\n",
    "x2 = bicycles[1:1] # == bicycles[1]\n",
    "print(type(x2))\n",
    "print(x2)\n",
    "\n",
    "#Note : - When we'll ask for single item, it'll return without square brackets or quotation marks."
   ]
  },
  {
   "cell_type": "code",
   "execution_count": 10,
   "metadata": {},
   "outputs": [
    {
     "name": "stdout",
     "output_type": "stream",
     "text": [
      "Trek\n"
     ]
    }
   ],
   "source": [
    "#Change the case \n",
    "\n",
    "print(bicycles[0].title())"
   ]
  },
  {
   "cell_type": "code",
   "execution_count": null,
   "metadata": {},
   "outputs": [],
   "source": [
    "#Index Position Starts at 0 not 1\n",
    "\n",
    "mobile_companies = ['Apple' , 'Samsung' ,'Redmi' ,'Oppo' ,'Vivo']"
   ]
  },
  {
   "cell_type": "markdown",
   "metadata": {},
   "source": [
    "Question : How would you print \" Roadmaster \" using both forward and reverse indexing ?\n"
   ]
  },
  {
   "cell_type": "code",
   "execution_count": 63,
   "metadata": {},
   "outputs": [
    {
     "name": "stdout",
     "output_type": "stream",
     "text": [
      "<class 'str'>\n",
      "Roadmaster\n",
      "<class 'list'>\n",
      "[]\n"
     ]
    }
   ],
   "source": [
    "bikes = [\"Ducati\" , \"Harley-Davidson\" , \"Roadmaster\" ,\"BMW\" , \"Royal Enfield\"]\n",
    "\n",
    "single_value =bikes[2]\n",
    "print(type(single_value))\n",
    "print(bikes[-3])\n",
    "\n",
    "sub_slice = bikes[2:2]\n",
    "\n",
    "#string[start : end]\n",
    "print(type(sub_slice))\n",
    "print(sub_slice)"
   ]
  },
  {
   "cell_type": "code",
   "execution_count": 14,
   "metadata": {},
   "outputs": [
    {
     "name": "stdout",
     "output_type": "stream",
     "text": [
      "Roadmaster\n",
      "Roadmaster\n",
      "['Roadmaster']\n"
     ]
    }
   ],
   "source": [
    "bikes = [\"Ducati\" , \"Harley-Davidson\" , \"Roadmaster\" ,\"BMW\" , \"Royal Enfield\"]\n",
    "\n",
    "print(bikes[2])\n",
    "print(bikes[-3])\n",
    "\n",
    "print(bikes[-3:-4:-1])"
   ]
  },
  {
   "cell_type": "code",
   "execution_count": 15,
   "metadata": {},
   "outputs": [
    {
     "name": "stdout",
     "output_type": "stream",
     "text": [
      "My next bike would be Royal Enfield\n"
     ]
    }
   ],
   "source": [
    "#Using individual values from a List\n",
    "message = \"My next bike would be \" +bikes[-1]\n",
    "print(message)"
   ]
  },
  {
   "cell_type": "code",
   "execution_count": 18,
   "metadata": {},
   "outputs": [
    {
     "name": "stdout",
     "output_type": "stream",
     "text": [
      "['Apple', [2, 3], 'Redmi', 'Oppo', 'Vivo']\n"
     ]
    }
   ],
   "source": [
    "#Changing, Adding and Removing Elements\n",
    "\n",
    "\n",
    "mobile_companies = ['Apple' , 'Samsung' ,'Redmi' ,'Oppo' ,'Vivo']\n",
    "mobile_companies[1] = [2,3]\n",
    "\n",
    "print(mobile_companies)"
   ]
  },
  {
   "cell_type": "markdown",
   "metadata": {},
   "source": [
    "Adding Elements to the List"
   ]
  },
  {
   "cell_type": "code",
   "execution_count": 19,
   "metadata": {},
   "outputs": [
    {
     "data": {
      "text/plain": [
       "['Apple', [2, 3], 'Redmi', 'Oppo', 'Vivo']"
      ]
     },
     "execution_count": 19,
     "metadata": {},
     "output_type": "execute_result"
    }
   ],
   "source": [
    "#Adding at end\n",
    "mobile_companies"
   ]
  },
  {
   "cell_type": "code",
   "execution_count": 20,
   "metadata": {},
   "outputs": [
    {
     "name": "stdout",
     "output_type": "stream",
     "text": [
      "['Apple', [2, 3], 'Redmi', 'Oppo', 'Vivo', 'nokia']\n"
     ]
    }
   ],
   "source": [
    "mobile_companies.append('nokia')\n",
    "print(mobile_companies)"
   ]
  },
  {
   "cell_type": "code",
   "execution_count": 24,
   "metadata": {},
   "outputs": [
    {
     "data": {
      "text/plain": [
       "['Apple', [2, 3], 'Redmi', 'Oppo', 'Vivo', 'nokia', 'xyz', 'xyz', 'xyz', 'xyz']"
      ]
     },
     "execution_count": 24,
     "metadata": {},
     "output_type": "execute_result"
    }
   ],
   "source": [
    "#Question : If I want to add \"xyz\" at the end\n",
    "\n",
    "mobile_companies.append(\"xyz\")\n",
    "mobile_companies"
   ]
  },
  {
   "cell_type": "code",
   "execution_count": 40,
   "metadata": {},
   "outputs": [
    {
     "data": {
      "text/plain": [
       "[' Lenovo', 'Apple', 'Samsung', 'Redmi', 'Oppo', 'Vivo']"
      ]
     },
     "execution_count": 40,
     "metadata": {},
     "output_type": "execute_result"
    }
   ],
   "source": [
    "\n",
    "mobile_companies = ['Apple' , 'Samsung' ,'Redmi' ,'Oppo' ,'Vivo']\n",
    "\n",
    "#Inserting into the List\n",
    "#Inserting at position 0\n",
    "mobile_companies.insert(0 , \" Lenovo\")\n",
    "#mobile_companies[1] = \"Lenovo\"\n",
    "mobile_companies"
   ]
  },
  {
   "cell_type": "markdown",
   "metadata": {},
   "source": [
    "Question: Make the changes so that resultant list should look like:\n",
    "    ['Lenovo','Apple ,'Samsung', 'Redmi','HTC', 'Oppo', 'Vivo', 'nokia']"
   ]
  },
  {
   "cell_type": "code",
   "execution_count": 41,
   "metadata": {},
   "outputs": [
    {
     "name": "stdout",
     "output_type": "stream",
     "text": [
      "[' Lenovo', 'Apple', 'Samsung', 'Redmi', 'HTC', 'Oppo', 'Vivo']\n",
      "[' Lenovo', 'Apple', 'Samsung', 'Redmi', 'HTC', 'Oppo', 'nokia', 'nokia', 'Vivo']\n"
     ]
    }
   ],
   "source": [
    "#Task is to add \"HTC\" and \"Nokia\"\n",
    "\n",
    "#Method 1: if we add Htc first\n",
    "\n",
    "mobile_companies.insert(4, \"HTC\")\n",
    "print(mobile_companies)\n",
    "\n",
    "mobile_companies.insert(-1 , \"nokia\")\n",
    "\n",
    "mobile_companies.insert(-1 , \"nokia\")\n",
    "print(mobile_companies)"
   ]
  },
  {
   "cell_type": "code",
   "execution_count": null,
   "metadata": {},
   "outputs": [],
   "source": [
    "mobile_companies = ['Sony', 'Apple','Samsung', 'Redmi', 'Oppo', 'Vivo', 'nokia']\n",
    "print(mobile_companies)\n",
    "mobile_companies.insert(2,\"Lenovo\")\n",
    "print(mobile_companies)\n",
    "mobile_companies.insert(5 ,\"HTc\")\n",
    "print(mobile_companies)"
   ]
  },
  {
   "cell_type": "markdown",
   "metadata": {},
   "source": [
    "Removing Element From The List\n",
    "    1. Using del\n",
    "    2. Using Pop\n",
    "    3. Removing by Value"
   ]
  },
  {
   "cell_type": "code",
   "execution_count": 42,
   "metadata": {},
   "outputs": [
    {
     "name": "stdout",
     "output_type": "stream",
     "text": [
      "['Sony', 'Apple', 'Samsung', 'Redmi', 'Oppo', 'Vivo', 'nokia']\n",
      "['Sony', 'Apple', 'Samsung', 'Oppo', 'Vivo', 'nokia']\n"
     ]
    }
   ],
   "source": [
    "#Using del\n",
    "mobile_companies = ['Sony', 'Apple','Samsung', 'Redmi', 'Oppo', 'Vivo', 'nokia']\n",
    "\n",
    "print(mobile_companies)\n",
    "del mobile_companies[3]\n",
    "print(mobile_companies)"
   ]
  },
  {
   "cell_type": "code",
   "execution_count": 43,
   "metadata": {},
   "outputs": [
    {
     "name": "stdout",
     "output_type": "stream",
     "text": [
      "['Sony', 'Samsung', 'Redmi', 'Oppo', 'Vivo', 'nokia']\n",
      "Apple\n"
     ]
    }
   ],
   "source": [
    "#Using Pop\n",
    "mobile_companies = ['Sony', 'Apple','Samsung', 'Redmi', 'Oppo', 'Vivo', 'nokia']\n",
    "\n",
    "popped_mobile = mobile_companies.pop(1)\n",
    "print(mobile_companies)\n",
    "print(popped_mobile)"
   ]
  },
  {
   "cell_type": "code",
   "execution_count": 54,
   "metadata": {},
   "outputs": [
    {
     "name": "stdout",
     "output_type": "stream",
     "text": [
      "['Sony', 'Samsung', 'Sony', 'Sony', 'Redmi', 'Oppo', 'Vivo', 'nokia', 'Sony']\n",
      "['Samsung', 'Sony', 'Sony', 'Redmi', 'Oppo', 'Vivo', 'nokia', 'Sony']\n"
     ]
    }
   ],
   "source": [
    "#Removing an Item by Value\n",
    "mobile_companies = ['Sony', 'Apple','Samsung', 'Sony', 'Sony', 'Redmi', 'Oppo', 'Vivo', 'nokia', 'Sony']\n",
    "\n",
    "mobile_companies.remove('Apple')\n",
    "print(mobile_companies)\n",
    "mobile_companies.remove('Sony')\n",
    "print(mobile_companies)"
   ]
  },
  {
   "cell_type": "code",
   "execution_count": 55,
   "metadata": {},
   "outputs": [
    {
     "data": {
      "text/plain": [
       "['Samsung', 'Sony', 'Redmi', 'Oppo', 'Vivo', 'nokia', 'Sony']"
      ]
     },
     "execution_count": 55,
     "metadata": {},
     "output_type": "execute_result"
    }
   ],
   "source": [
    "Not_Available = \"Sony\"\n",
    "mobile_companies.remove(Not_Available)\n",
    "mobile_companies"
   ]
  },
  {
   "cell_type": "code",
   "execution_count": null,
   "metadata": {},
   "outputs": [],
   "source": [
    "#Remove will delete only first occurrence of the element"
   ]
  },
  {
   "cell_type": "markdown",
   "metadata": {},
   "source": [
    "Find Length of the List"
   ]
  },
  {
   "cell_type": "code",
   "execution_count": 48,
   "metadata": {},
   "outputs": [
    {
     "data": {
      "text/plain": [
       "8"
      ]
     },
     "execution_count": 48,
     "metadata": {},
     "output_type": "execute_result"
    }
   ],
   "source": [
    "len(mobile_companies)"
   ]
  },
  {
   "cell_type": "markdown",
   "metadata": {},
   "source": [
    "Find Reverse of a List"
   ]
  },
  {
   "cell_type": "code",
   "execution_count": 49,
   "metadata": {},
   "outputs": [
    {
     "name": "stdout",
     "output_type": "stream",
     "text": [
      "['Apple', 'Samsung', 'Sony', 'Redmi', 'Oppo', 'Vivo', 'nokia', 'Sony']\n",
      "['Sony', 'nokia', 'Vivo', 'Oppo', 'Redmi', 'Sony', 'Samsung', 'Apple']\n"
     ]
    }
   ],
   "source": [
    "print(mobile_companies)\n",
    "mobile_companies.reverse()\n",
    "print(mobile_companies)"
   ]
  },
  {
   "cell_type": "markdown",
   "metadata": {},
   "source": [
    "Sorting a List\n",
    "\n",
    "Sort vs Sorted\n",
    "Sort :- Sorting a List Permanently\n",
    "Sorted :- Sorting a List Temporarily"
   ]
  },
  {
   "cell_type": "code",
   "execution_count": 56,
   "metadata": {},
   "outputs": [
    {
     "data": {
      "text/plain": [
       "['bMW', 'ducati', 'harley-Davidson', 'roadmaster', 'royal Enfield']"
      ]
     },
     "execution_count": 56,
     "metadata": {},
     "output_type": "execute_result"
    }
   ],
   "source": [
    "bikes = [\"ducati\" , \"harley-Davidson\" , \"roadmaster\" ,\"bMW\" , \"royal Enfield\"]\n",
    "bikes.sort()\n",
    "bikes"
   ]
  },
  {
   "cell_type": "code",
   "execution_count": 57,
   "metadata": {},
   "outputs": [
    {
     "data": {
      "text/plain": [
       "['bMW', 'ducati', 'harley-Davidson', 'roadmaster', 'royal Enfield']"
      ]
     },
     "execution_count": 57,
     "metadata": {},
     "output_type": "execute_result"
    }
   ],
   "source": [
    "bikes"
   ]
  },
  {
   "cell_type": "code",
   "execution_count": 60,
   "metadata": {},
   "outputs": [
    {
     "data": {
      "text/plain": [
       "['royal Enfield', 'roadmaster', 'harley-Davidson', 'ducati', 'bMW']"
      ]
     },
     "execution_count": 60,
     "metadata": {},
     "output_type": "execute_result"
    }
   ],
   "source": [
    "#To sort in reverse\n",
    "bikes.sort(reverse = True)\n",
    "bikes\n"
   ]
  },
  {
   "cell_type": "code",
   "execution_count": 10,
   "metadata": {},
   "outputs": [
    {
     "name": "stdout",
     "output_type": "stream",
     "text": [
      "['Ducati', 'Harley-Davidson', 'fsvs', 'srsr', 'srgs', 'BMW', 'Roadmaster', 'BMW', 'Royal Enfield']\n",
      "5\n"
     ]
    },
    {
     "data": {
      "text/plain": [
       "2"
      ]
     },
     "execution_count": 10,
     "metadata": {},
     "output_type": "execute_result"
    }
   ],
   "source": [
    "print(bikes)\n",
    "print(bikes.index(\"BMW\"))\n",
    "bikes.count(\"BMW\")"
   ]
  },
  {
   "cell_type": "code",
   "execution_count": 13,
   "metadata": {},
   "outputs": [
    {
     "name": "stdout",
     "output_type": "stream",
     "text": [
      "['xbW', 'woyal Enfield', 'srsr', 'srgs', 'roadmaster', 'harley-Davidson', 'fsvs', 'ducati', 'bMW']\n",
      "['ducati', 'harley-Davidson', 'fsvs', 'srsr', 'srgs', 'bMW', 'roadmaster', 'xbW', 'woyal Enfield']\n"
     ]
    }
   ],
   "source": [
    "bikes = [\"ducati\" , \"harley-Davidson\",\"fsvs\",\"srsr\",\"srgs\" , \"bMW\" ,\"roadmaster\" ,\"xbW\" , \"woyal Enfield\"]\n",
    "print(sorted(bikes , reverse = True))\n",
    "print(bikes)"
   ]
  },
  {
   "cell_type": "code",
   "execution_count": null,
   "metadata": {},
   "outputs": [],
   "source": [
    "#To print each element of list\n",
    "print(bikes[0])\n",
    "print(bikes[1])\n",
    "print(bikes[2])\n",
    "print(bikes[3])\n",
    "print(bikes[4])"
   ]
  },
  {
   "cell_type": "markdown",
   "metadata": {},
   "source": [
    "Loop: To perform same action on every item of the list"
   ]
  },
  {
   "cell_type": "code",
   "execution_count": null,
   "metadata": {},
   "outputs": [],
   "source": [
    "#Looping Through Entire List\n",
    "print(bikes)\n",
    "for bike in bikes:\n",
    "    print(bike)\n",
    "    print(\"I love to ride\\n\")\n",
    "    print(\"Demo\")\n",
    "    \n",
    "    \n",
    "list1 = [1 ,2 , 3 ,4 ,5]\n",
    "for num in list1:\n",
    "    print(num)"
   ]
  },
  {
   "cell_type": "code",
   "execution_count": null,
   "metadata": {},
   "outputs": [],
   "source": [
    "s = \"Daman\"\n",
    "\n",
    "for char in s:\n",
    "    print(char)"
   ]
  },
  {
   "cell_type": "code",
   "execution_count": null,
   "metadata": {},
   "outputs": [],
   "source": [
    "for bike in bikes:\n",
    "    print(\"I love \" + bike )\n",
    "    print(\"I want it\\n\")\n"
   ]
  },
  {
   "cell_type": "code",
   "execution_count": null,
   "metadata": {},
   "outputs": [],
   "source": [
    "for bike in bikes:\n",
    "    print(\"I love \" + bike )\n",
    "    print(\"I want it\\n\")\n",
    "\n",
    "    \n",
    "print(\"I love to ride\")"
   ]
  },
  {
   "cell_type": "markdown",
   "metadata": {},
   "source": [
    "Mistakes regarding Indentation"
   ]
  },
  {
   "cell_type": "code",
   "execution_count": null,
   "metadata": {},
   "outputs": [],
   "source": [
    "#Forgetting to Indent\n",
    "for bike in bikes:\n",
    "print(\"I love \" + bike )\n",
    "print(\"I want it\\n\")\n"
   ]
  },
  {
   "cell_type": "code",
   "execution_count": null,
   "metadata": {},
   "outputs": [],
   "source": [
    "#Forgetting to Indent Additional Line\n",
    "for bike in bikes:\n",
    "    print(\"I love \" + bike )\n",
    "print(\"I want it\\n\")\n"
   ]
  },
  {
   "cell_type": "code",
   "execution_count": null,
   "metadata": {},
   "outputs": [],
   "source": [
    "#Indenting Unnecessarily\n",
    "    print(\"I love \" + bike )\n",
    "print(\"I want it\\n\")"
   ]
  },
  {
   "cell_type": "code",
   "execution_count": null,
   "metadata": {},
   "outputs": [],
   "source": [
    "#Indenting Unnecessarily after the loop\n",
    "\n",
    "for bike in bikes:\n",
    "    print(\"I love \" + bike )\n",
    "    print(\"I want it\\n\")\n",
    "\n",
    "    print(\"I love to ride\")"
   ]
  },
  {
   "cell_type": "code",
   "execution_count": null,
   "metadata": {},
   "outputs": [],
   "source": [
    "#Forgetting The Colon\n",
    "for bike in bikes\n",
    "    print(\"I love \" + bike )\n",
    "    print(\"I want it\\n\")\n"
   ]
  },
  {
   "cell_type": "markdown",
   "metadata": {},
   "source": [
    "Making Numerical Lists\n"
   ]
  },
  {
   "cell_type": "code",
   "execution_count": null,
   "metadata": {},
   "outputs": [],
   "source": [
    "#Using range( ) fnx\n",
    "\n",
    "for value in range(1,5):\n",
    "    print(value)"
   ]
  },
  {
   "cell_type": "code",
   "execution_count": null,
   "metadata": {},
   "outputs": [],
   "source": [
    "#Using range to make list of Numbers\n",
    "numbers = list(range(1 ,6))\n",
    "numbers\n"
   ]
  },
  {
   "cell_type": "code",
   "execution_count": null,
   "metadata": {},
   "outputs": [],
   "source": [
    "#Using range to make list of Alternate Numbers\n",
    "numbers = list(range(0 ,6 , 2))\n",
    "numbers\n"
   ]
  },
  {
   "cell_type": "markdown",
   "metadata": {},
   "source": [
    "QUESTION : Write a command to create a list [3,10,17,24,31]"
   ]
  },
  {
   "cell_type": "code",
   "execution_count": null,
   "metadata": {},
   "outputs": [],
   "source": [
    "#Program to compute a list of squares of numbers from 0 to 10\n",
    "\n",
    "squares = []\n",
    "\n",
    "for num in range(0,11):\n",
    "    squares.append(num*num)\n",
    "\n",
    "squares"
   ]
  },
  {
   "cell_type": "markdown",
   "metadata": {},
   "source": [
    "Statistics with a List of Number"
   ]
  },
  {
   "cell_type": "code",
   "execution_count": null,
   "metadata": {},
   "outputs": [],
   "source": [
    "digits = [34 , 5 , 25 , 6 , 2]\n",
    "print(min(digits))\n",
    "print(max(digits))\n",
    "print(sum(digits))"
   ]
  },
  {
   "cell_type": "markdown",
   "metadata": {},
   "source": [
    "List Comprehension :  Generate List in one line of code i.e. combining for loop and list creation in single line"
   ]
  },
  {
   "cell_type": "code",
   "execution_count": null,
   "metadata": {},
   "outputs": [],
   "source": [
    "squares = [num**2 for num in range(0,11)]"
   ]
  },
  {
   "cell_type": "markdown",
   "metadata": {},
   "source": [
    "Slicing a List"
   ]
  },
  {
   "cell_type": "code",
   "execution_count": null,
   "metadata": {},
   "outputs": [],
   "source": [
    "bikes"
   ]
  },
  {
   "cell_type": "code",
   "execution_count": null,
   "metadata": {},
   "outputs": [],
   "source": [
    "#To print complete List\n",
    "print(bikes[:])"
   ]
  },
  {
   "cell_type": "code",
   "execution_count": null,
   "metadata": {},
   "outputs": [],
   "source": [
    "# To print first 2 elements"
   ]
  },
  {
   "cell_type": "code",
   "execution_count": null,
   "metadata": {},
   "outputs": [],
   "source": [
    "print(bikes[ : 2])"
   ]
  },
  {
   "cell_type": "code",
   "execution_count": null,
   "metadata": {},
   "outputs": [],
   "source": [
    "#To print 2nd, 3rd , 4th and 5th value\n",
    "print( bikes[1 :])\n"
   ]
  },
  {
   "cell_type": "markdown",
   "metadata": {},
   "source": [
    "Copying a List"
   ]
  },
  {
   "cell_type": "code",
   "execution_count": null,
   "metadata": {},
   "outputs": [],
   "source": [
    "non_medical_subjects = [\"Phy\" , \"Chem \" , \"Eng\"]\n",
    "medical_subjects = non_medical_subjects[:]\n",
    "\n",
    "non_medical_subjects.append(\"Maths\")\n",
    "medical_subjects.append(\"Bio\")\n",
    "\n",
    "print(\"Non medical Subjects : \")\n",
    "print(non_medical_subjects)\n",
    "\n",
    "print(\"Medical Subjects : \")\n",
    "print(medical_subjects)\n"
   ]
  },
  {
   "cell_type": "code",
   "execution_count": null,
   "metadata": {},
   "outputs": [],
   "source": []
  }
 ],
 "metadata": {
  "kernelspec": {
   "display_name": "Python 3",
   "language": "python",
   "name": "python3"
  },
  "language_info": {
   "codemirror_mode": {
    "name": "ipython",
    "version": 3
   },
   "file_extension": ".py",
   "mimetype": "text/x-python",
   "name": "python",
   "nbconvert_exporter": "python",
   "pygments_lexer": "ipython3",
   "version": "3.7.4"
  }
 },
 "nbformat": 4,
 "nbformat_minor": 2
}
