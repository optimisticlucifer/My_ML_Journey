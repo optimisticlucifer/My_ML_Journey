{
 "cells": [
  {
   "cell_type": "markdown",
   "metadata": {},
   "source": [
    "Lists"
   ]
  },
  {
   "cell_type": "markdown",
   "metadata": {},
   "source": [
    "Lists can be thought of the most general version of a sequence in Python. Unlike strings, they are mutable, meaning the elements inside a list can be changed!\n"
   ]
  },
  {
   "cell_type": "markdown",
   "metadata": {},
   "source": [
    "List is a collection of items in a particular order"
   ]
  },
  {
   "cell_type": "markdown",
   "metadata": {},
   "source": [
    "You can put anything in a list, and items in the list need not be related to each other"
   ]
  },
  {
   "cell_type": "markdown",
   "metadata": {},
   "source": [
    "1.) Creating Lists\n",
    "2.) Accessing Lists\n",
    "3.) Indexing and Slicing Lists\n",
    "4.) Basic List Methods\n",
    "5.) Nesting Lists\n",
    "6.) Introduction to List Comprehensions"
   ]
  },
  {
   "cell_type": "code",
   "execution_count": 10,
   "metadata": {},
   "outputs": [
    {
     "name": "stdout",
     "output_type": "stream",
     "text": [
      "[1, 2, 3, 4, 5, 6]\n",
      "<class 'list'>\n"
     ]
    }
   ],
   "source": [
    "#Creating Lists\n",
    "my_list =[1 , 2 , 3, 4, 5 , 6]\n",
    "print(my_list)\n",
    "print(type(my_list))"
   ]
  },
  {
   "cell_type": "code",
   "execution_count": 2,
   "metadata": {},
   "outputs": [
    {
     "name": "stdout",
     "output_type": "stream",
     "text": [
      "trek\n"
     ]
    }
   ],
   "source": [
    "bicycles = ['trek' , 'cannondale' , 'redline' , 'specialized']\n",
    "print(bicycles [0])\n",
    "\n",
    "#Note : - When we'll ask for single item, it'll return without square brackets or quotation marks."
   ]
  },
  {
   "cell_type": "code",
   "execution_count": 3,
   "metadata": {},
   "outputs": [
    {
     "name": "stdout",
     "output_type": "stream",
     "text": [
      "Trek\n"
     ]
    }
   ],
   "source": [
    "#Change the case \n",
    "\n",
    "print(bicycles[0].title())"
   ]
  },
  {
   "cell_type": "code",
   "execution_count": null,
   "metadata": {},
   "outputs": [],
   "source": [
    "#Index Position Starts at 0 not 1\n",
    "\n",
    "mobile_companies = ['Apple' , 'Samsung' ,'Redmi' ,'Oppo' ,'Vivo']"
   ]
  },
  {
   "cell_type": "markdown",
   "metadata": {},
   "source": [
    "Question : How would you print \" BMW \" using both forward and reverse indexing ?\n"
   ]
  },
  {
   "cell_type": "code",
   "execution_count": 4,
   "metadata": {},
   "outputs": [],
   "source": [
    "bikes = [\"Ducati\" , \"Harley-Davidson\" , \"Roadmaster\" ,\"BMW\" , \"Royal Enfield\"]"
   ]
  },
  {
   "cell_type": "code",
   "execution_count": 6,
   "metadata": {},
   "outputs": [
    {
     "name": "stdout",
     "output_type": "stream",
     "text": [
      "My next bike would be Royal Enfield\n"
     ]
    }
   ],
   "source": [
    "#Using individual values from a List\n",
    "message = \"My next bike would be \" +bikes[-1]\n",
    "print(message)"
   ]
  },
  {
   "cell_type": "code",
   "execution_count": 7,
   "metadata": {},
   "outputs": [
    {
     "name": "stdout",
     "output_type": "stream",
     "text": [
      "['Apple', 'Samsung', 'Redmi', 'Oppo', 'Vivo']\n"
     ]
    }
   ],
   "source": [
    "#Changing, Adding and Removing Elements\n",
    "\n",
    "\n",
    "mobile_companies = ['Apple' , 'Samung' ,'Redmi' ,'Oppo' ,'Vivo']\n",
    "mobile_companies[1] = \"Samsung\"\n",
    "\n",
    "print(mobile_companies)"
   ]
  },
  {
   "cell_type": "markdown",
   "metadata": {},
   "source": [
    "Adding Elements to the List"
   ]
  },
  {
   "cell_type": "code",
   "execution_count": 9,
   "metadata": {},
   "outputs": [
    {
     "data": {
      "text/plain": [
       "['Apple', 'Samsung', 'Redmi', 'Oppo', 'Vivo']"
      ]
     },
     "execution_count": 9,
     "metadata": {},
     "output_type": "execute_result"
    }
   ],
   "source": [
    "#Adding at end\n",
    "mobile_companies"
   ]
  },
  {
   "cell_type": "code",
   "execution_count": 12,
   "metadata": {},
   "outputs": [
    {
     "name": "stdout",
     "output_type": "stream",
     "text": [
      "['Apple', 'Samsung', 'Redmi', 'Oppo', 'Vivo', 'nokia', 'nokia', 'nokia']\n"
     ]
    }
   ],
   "source": [
    "mobile_companies.append('nokia')\n",
    "print(mobile_companies)"
   ]
  },
  {
   "cell_type": "code",
   "execution_count": 16,
   "metadata": {},
   "outputs": [
    {
     "name": "stdout",
     "output_type": "stream",
     "text": [
      "['Sony', 'Sony', 'Sony', 'Sony', 'Apple', 'Samsung', 'Redmi', 'Oppo', 'Vivo', 'nokia', 'nokia', 'nokia']\n"
     ]
    }
   ],
   "source": [
    "#Inserting into the List\n",
    "\n",
    "#Inserting at position 0\n",
    "mobile_companies.insert( 0 , \"Sony\")\n",
    "print(mobile_companies)"
   ]
  },
  {
   "cell_type": "markdown",
   "metadata": {},
   "source": [
    "Question: Make the changes so that resultant list should look like:\n",
    "    ['Sony ' ,'Apple','Lenovo' ,'Samsung', 'Redmi','HTC', 'Oppo', 'Vivo', 'nokia']"
   ]
  },
  {
   "cell_type": "markdown",
   "metadata": {},
   "source": [
    "Removing Element From The List\n",
    "    1. Using del\n",
    "    2. Using Pop\n",
    "    3. Removing by Value"
   ]
  },
  {
   "cell_type": "code",
   "execution_count": 19,
   "metadata": {},
   "outputs": [
    {
     "name": "stdout",
     "output_type": "stream",
     "text": [
      "['Sony', 'Sony', 'Sony', 'Sony', 'Apple', 'Samsung', 'Redmi', 'Oppo', 'Vivo', 'nokia', 'nokia', 'nokia']\n",
      "['Sony', 'Sony', 'Sony', 'Apple', 'Samsung', 'Redmi', 'Oppo', 'Vivo', 'nokia', 'nokia', 'nokia']\n"
     ]
    }
   ],
   "source": [
    "#Using del\n",
    "\n",
    "print(mobile_companies)\n",
    "del mobile_companies[2]\n",
    "print(mobile_companies)"
   ]
  },
  {
   "cell_type": "code",
   "execution_count": 25,
   "metadata": {},
   "outputs": [
    {
     "name": "stdout",
     "output_type": "stream",
     "text": [
      "['Sony', 'Sony', 'Sony', 'Apple', 'Samsung', 'Oppo', 'Vivo', 'nokia']\n",
      "nokia\n"
     ]
    }
   ],
   "source": [
    "#Using Pop\n",
    "\n",
    "popped_mobile = mobile_companies.pop()\n",
    "print(mobile_companies)\n",
    "print(popped_mobile)"
   ]
  },
  {
   "cell_type": "code",
   "execution_count": 24,
   "metadata": {},
   "outputs": [
    {
     "ename": "ValueError",
     "evalue": "list.remove(x): x not in list",
     "output_type": "error",
     "traceback": [
      "\u001b[1;31m---------------------------------------------------------------------------\u001b[0m",
      "\u001b[1;31mValueError\u001b[0m                                Traceback (most recent call last)",
      "\u001b[1;32m<ipython-input-24-9f53cedc3a44>\u001b[0m in \u001b[0;36m<module>\u001b[1;34m\u001b[0m\n\u001b[0;32m      1\u001b[0m \u001b[1;31m#Removing an Item by Value\u001b[0m\u001b[1;33m\u001b[0m\u001b[1;33m\u001b[0m\u001b[1;33m\u001b[0m\u001b[0m\n\u001b[0;32m      2\u001b[0m \u001b[1;33m\u001b[0m\u001b[0m\n\u001b[1;32m----> 3\u001b[1;33m \u001b[0mmobile_companies\u001b[0m\u001b[1;33m.\u001b[0m\u001b[0mremove\u001b[0m\u001b[1;33m(\u001b[0m\u001b[1;34m'Redmi'\u001b[0m\u001b[1;33m)\u001b[0m\u001b[1;33m\u001b[0m\u001b[1;33m\u001b[0m\u001b[0m\n\u001b[0m\u001b[0;32m      4\u001b[0m \u001b[0mprint\u001b[0m\u001b[1;33m(\u001b[0m\u001b[0mmobile_companies\u001b[0m\u001b[1;33m)\u001b[0m\u001b[1;33m\u001b[0m\u001b[1;33m\u001b[0m\u001b[0m\n",
      "\u001b[1;31mValueError\u001b[0m: list.remove(x): x not in list"
     ]
    }
   ],
   "source": [
    "#Removing an Item by Value\n",
    "\n",
    "mobile_companies.remove('Redmi')\n",
    "print(mobile_companies)"
   ]
  },
  {
   "cell_type": "code",
   "execution_count": 26,
   "metadata": {},
   "outputs": [
    {
     "data": {
      "text/plain": [
       "['Sony', 'Sony', 'Apple', 'Samsung', 'Oppo', 'Vivo', 'nokia']"
      ]
     },
     "execution_count": 26,
     "metadata": {},
     "output_type": "execute_result"
    }
   ],
   "source": [
    "Not_Available = \"Sony\"\n",
    "mobile_companies.remove(Not_Available)\n",
    "mobile_companies"
   ]
  },
  {
   "cell_type": "code",
   "execution_count": 27,
   "metadata": {},
   "outputs": [],
   "source": [
    "#Remove will delete only first occurrence of the element"
   ]
  },
  {
   "cell_type": "markdown",
   "metadata": {},
   "source": [
    "Find Length of the List"
   ]
  },
  {
   "cell_type": "code",
   "execution_count": 28,
   "metadata": {},
   "outputs": [
    {
     "data": {
      "text/plain": [
       "7"
      ]
     },
     "execution_count": 28,
     "metadata": {},
     "output_type": "execute_result"
    }
   ],
   "source": [
    "len(mobile_companies)"
   ]
  },
  {
   "cell_type": "markdown",
   "metadata": {},
   "source": [
    "Find Reverse of a List"
   ]
  },
  {
   "cell_type": "code",
   "execution_count": 32,
   "metadata": {},
   "outputs": [
    {
     "name": "stdout",
     "output_type": "stream",
     "text": [
      "['nokia', 'Vivo', 'Oppo', 'Samsung', 'Apple', 'Sony', 'Sony']\n",
      "['Sony', 'Sony', 'Apple', 'Samsung', 'Oppo', 'Vivo', 'nokia']\n"
     ]
    }
   ],
   "source": [
    "print(mobile_companies)\n",
    "mobile_companies.reverse()\n",
    "print(mobile_companies)"
   ]
  },
  {
   "cell_type": "markdown",
   "metadata": {},
   "source": [
    "Sorting a List\n",
    "\n",
    "Sort vs Sorted\n",
    "Sort :- Sorting a List Permanently\n",
    "Sorted :- Sorting a List Temporarily"
   ]
  },
  {
   "cell_type": "code",
   "execution_count": 36,
   "metadata": {},
   "outputs": [
    {
     "data": {
      "text/plain": [
       "['BMW', 'Ducati', 'Harley-Davidson', 'Roadmaster', 'Royal Enfield']"
      ]
     },
     "execution_count": 36,
     "metadata": {},
     "output_type": "execute_result"
    }
   ],
   "source": [
    "bikes = [\"Ducati\" , \"Harley-Davidson\" , \"Roadmaster\" ,\"BMW\" , \"Royal Enfield\"]\n",
    "bikes.sort()\n",
    "bikes"
   ]
  },
  {
   "cell_type": "code",
   "execution_count": 38,
   "metadata": {},
   "outputs": [
    {
     "data": {
      "text/plain": [
       "['Royal Enfield', 'Roadmaster', 'Harley-Davidson', 'Ducati', 'BMW']"
      ]
     },
     "execution_count": 38,
     "metadata": {},
     "output_type": "execute_result"
    }
   ],
   "source": [
    "#To sort in reverse\n",
    "bikes.sort(reverse = True)\n",
    "bikes"
   ]
  },
  {
   "cell_type": "code",
   "execution_count": 40,
   "metadata": {},
   "outputs": [
    {
     "name": "stdout",
     "output_type": "stream",
     "text": [
      "['BMW', 'Ducati', 'Harley-Davidson', 'Roadmaster', 'Royal Enfield']\n",
      "['Ducati', 'Harley-Davidson', 'Roadmaster', 'BMW', 'Royal Enfield']\n"
     ]
    }
   ],
   "source": [
    "bikes = [Ducati\" , \"Harley-Davidson\" , \"Roadmaster\" ,\"BMW\" , \"Royal Enfield\"]\n",
    "print(sorted(bikes))\n",
    "print(bikes)"
   ]
  },
  {
   "cell_type": "code",
   "execution_count": 42,
   "metadata": {},
   "outputs": [
    {
     "name": "stdout",
     "output_type": "stream",
     "text": [
      "Ducati\n",
      "Harley-Davidson\n",
      "Roadmaster\n",
      "BMW\n",
      "Royal Enfield\n"
     ]
    }
   ],
   "source": [
    "#To print each element of list\n",
    "print(bikes[0])\n",
    "print(bikes[1])\n",
    "print(bikes[2])\n",
    "print(bikes[3])\n",
    "print(bikes[4])"
   ]
  },
  {
   "cell_type": "markdown",
   "metadata": {},
   "source": [
    "Loop: To perform same action on every item of the list"
   ]
  },
  {
   "cell_type": "code",
   "execution_count": 43,
   "metadata": {},
   "outputs": [
    {
     "name": "stdout",
     "output_type": "stream",
     "text": [
      "Ducati\n",
      "Harley-Davidson\n",
      "Roadmaster\n",
      "BMW\n",
      "Royal Enfield\n"
     ]
    }
   ],
   "source": [
    "#Looping Through Entire List\n",
    "for bike in bikes:\n",
    "    print(bike)"
   ]
  },
  {
   "cell_type": "code",
   "execution_count": 46,
   "metadata": {},
   "outputs": [
    {
     "name": "stdout",
     "output_type": "stream",
     "text": [
      "I love Ducati\n",
      "I want it\n",
      "\n",
      "I love Harley-Davidson\n",
      "I want it\n",
      "\n",
      "I love Roadmaster\n",
      "I want it\n",
      "\n",
      "I love BMW\n",
      "I want it\n",
      "\n",
      "I love Royal Enfield\n",
      "I want it\n",
      "\n"
     ]
    }
   ],
   "source": [
    "for bike in bikes:\n",
    "    print(\"I love \" + bike )\n",
    "    print(\"I want it\\n\")\n"
   ]
  },
  {
   "cell_type": "code",
   "execution_count": 47,
   "metadata": {},
   "outputs": [
    {
     "name": "stdout",
     "output_type": "stream",
     "text": [
      "I love Ducati\n",
      "I want it\n",
      "\n",
      "I love Harley-Davidson\n",
      "I want it\n",
      "\n",
      "I love Roadmaster\n",
      "I want it\n",
      "\n",
      "I love BMW\n",
      "I want it\n",
      "\n",
      "I love Royal Enfield\n",
      "I want it\n",
      "\n",
      "I love to ride\n"
     ]
    }
   ],
   "source": [
    "for bike in bikes:\n",
    "    print(\"I love \" + bike )\n",
    "    print(\"I want it\\n\")\n",
    "\n",
    "print(\"I love to ride\")"
   ]
  },
  {
   "cell_type": "markdown",
   "metadata": {},
   "source": [
    "Mistakes regarding Indentation"
   ]
  },
  {
   "cell_type": "code",
   "execution_count": 50,
   "metadata": {},
   "outputs": [
    {
     "name": "stdout",
     "output_type": "stream",
     "text": [
      "I love Royal Enfield\n",
      "I want it\n",
      "\n"
     ]
    }
   ],
   "source": [
    "#Forgetting to Indent\n",
    "for bike in bikes:\n",
    "print(\"I love \" + bike )\n",
    "print(\"I want it\\n\")\n"
   ]
  },
  {
   "cell_type": "code",
   "execution_count": 51,
   "metadata": {},
   "outputs": [
    {
     "name": "stdout",
     "output_type": "stream",
     "text": [
      "I love Ducati\n",
      "I love Harley-Davidson\n",
      "I love Roadmaster\n",
      "I love BMW\n",
      "I love Royal Enfield\n",
      "I want it\n",
      "\n"
     ]
    }
   ],
   "source": [
    "#Forgetting to Indent Additional Line\n",
    "for bike in bikes:\n",
    "    print(\"I love \" + bike )\n",
    "print(\"I want it\\n\")\n"
   ]
  },
  {
   "cell_type": "code",
   "execution_count": 52,
   "metadata": {},
   "outputs": [
    {
     "ename": "IndentationError",
     "evalue": "unexpected indent (<ipython-input-52-ea4899eb4a23>, line 2)",
     "output_type": "error",
     "traceback": [
      "\u001b[1;36m  File \u001b[1;32m\"<ipython-input-52-ea4899eb4a23>\"\u001b[1;36m, line \u001b[1;32m2\u001b[0m\n\u001b[1;33m    print(\"I love \" + bike )\u001b[0m\n\u001b[1;37m    ^\u001b[0m\n\u001b[1;31mIndentationError\u001b[0m\u001b[1;31m:\u001b[0m unexpected indent\n"
     ]
    }
   ],
   "source": [
    "#Indenting Unnecessarily\n",
    "    print(\"I love \" + bike )\n",
    "print(\"I want it\\n\")"
   ]
  },
  {
   "cell_type": "code",
   "execution_count": 53,
   "metadata": {},
   "outputs": [
    {
     "name": "stdout",
     "output_type": "stream",
     "text": [
      "I love Ducati\n",
      "I want it\n",
      "\n",
      "I love to ride\n",
      "I love Harley-Davidson\n",
      "I want it\n",
      "\n",
      "I love to ride\n",
      "I love Roadmaster\n",
      "I want it\n",
      "\n",
      "I love to ride\n",
      "I love BMW\n",
      "I want it\n",
      "\n",
      "I love to ride\n",
      "I love Royal Enfield\n",
      "I want it\n",
      "\n",
      "I love to ride\n"
     ]
    }
   ],
   "source": [
    "#Indenting Unnecessarily after the loop\n",
    "\n",
    "for bike in bikes:\n",
    "    print(\"I love \" + bike )\n",
    "    print(\"I want it\\n\")\n",
    "\n",
    "    print(\"I love to ride\")"
   ]
  },
  {
   "cell_type": "code",
   "execution_count": 54,
   "metadata": {},
   "outputs": [
    {
     "ename": "SyntaxError",
     "evalue": "invalid syntax (<ipython-input-54-e700fb71b704>, line 2)",
     "output_type": "error",
     "traceback": [
      "\u001b[1;36m  File \u001b[1;32m\"<ipython-input-54-e700fb71b704>\"\u001b[1;36m, line \u001b[1;32m2\u001b[0m\n\u001b[1;33m    for bike in bikes\u001b[0m\n\u001b[1;37m                     ^\u001b[0m\n\u001b[1;31mSyntaxError\u001b[0m\u001b[1;31m:\u001b[0m invalid syntax\n"
     ]
    }
   ],
   "source": [
    "#Forgetting The Colon\n",
    "for bike in bikes\n",
    "    print(\"I love \" + bike )\n",
    "    print(\"I want it\\n\")\n"
   ]
  },
  {
   "cell_type": "markdown",
   "metadata": {},
   "source": [
    "Making Numerical Lists\n"
   ]
  },
  {
   "cell_type": "code",
   "execution_count": 56,
   "metadata": {},
   "outputs": [
    {
     "name": "stdout",
     "output_type": "stream",
     "text": [
      "1\n",
      "2\n",
      "3\n",
      "4\n"
     ]
    }
   ],
   "source": [
    "#Using range( ) fnx\n",
    "\n",
    "for value in range(1,5):\n",
    "    print(value)"
   ]
  },
  {
   "cell_type": "code",
   "execution_count": 58,
   "metadata": {},
   "outputs": [
    {
     "data": {
      "text/plain": [
       "[1, 2, 3, 4, 5]"
      ]
     },
     "execution_count": 58,
     "metadata": {},
     "output_type": "execute_result"
    }
   ],
   "source": [
    "#Using range to make list of Numbers\n",
    "numbers = list(range(1 ,6))\n",
    "numbers\n"
   ]
  },
  {
   "cell_type": "code",
   "execution_count": 61,
   "metadata": {},
   "outputs": [
    {
     "data": {
      "text/plain": [
       "[0, 2, 4]"
      ]
     },
     "execution_count": 61,
     "metadata": {},
     "output_type": "execute_result"
    }
   ],
   "source": [
    "#Using range to make list of Alternate Numbers\n",
    "numbers = list(range(0 ,6 , 2))\n",
    "numbers\n"
   ]
  },
  {
   "cell_type": "markdown",
   "metadata": {},
   "source": [
    "QUESTION : Write a command to create a list [3,10,17,24,31]"
   ]
  },
  {
   "cell_type": "code",
   "execution_count": 63,
   "metadata": {},
   "outputs": [
    {
     "data": {
      "text/plain": [
       "[0, 1, 4, 9, 16, 25, 36, 49, 64, 81, 100]"
      ]
     },
     "execution_count": 63,
     "metadata": {},
     "output_type": "execute_result"
    }
   ],
   "source": [
    "#Program to compute a list of squares of numbers from 0 to 10\n",
    "\n",
    "squares = []\n",
    "\n",
    "for num in range(0,11):\n",
    "    squares.append(num*num)\n",
    "\n",
    "squares"
   ]
  },
  {
   "cell_type": "markdown",
   "metadata": {},
   "source": [
    "Statistics with a List of Number"
   ]
  },
  {
   "cell_type": "code",
   "execution_count": 66,
   "metadata": {},
   "outputs": [
    {
     "name": "stdout",
     "output_type": "stream",
     "text": [
      "2\n",
      "34\n",
      "72\n"
     ]
    }
   ],
   "source": [
    "digits = [34 , 5 , 25 , 6 , 2]\n",
    "print(min(digits))\n",
    "print(max(digits))\n",
    "print(sum(digits))"
   ]
  },
  {
   "cell_type": "markdown",
   "metadata": {},
   "source": [
    "List Comprehension :  Generate List in one line of code i.e. combining for loop and list creation in single line"
   ]
  },
  {
   "cell_type": "code",
   "execution_count": 67,
   "metadata": {},
   "outputs": [],
   "source": [
    "squares = [num**2 for num in range(0,11)]"
   ]
  },
  {
   "cell_type": "markdown",
   "metadata": {},
   "source": [
    "Slicing a List"
   ]
  },
  {
   "cell_type": "code",
   "execution_count": 68,
   "metadata": {},
   "outputs": [
    {
     "data": {
      "text/plain": [
       "['Ducati', 'Harley-Davidson', 'Roadmaster', 'BMW', 'Royal Enfield']"
      ]
     },
     "execution_count": 68,
     "metadata": {},
     "output_type": "execute_result"
    }
   ],
   "source": [
    "bikes"
   ]
  },
  {
   "cell_type": "code",
   "execution_count": 73,
   "metadata": {},
   "outputs": [
    {
     "name": "stdout",
     "output_type": "stream",
     "text": [
      "['Ducati', 'Harley-Davidson', 'Roadmaster', 'BMW', 'Royal Enfield']\n"
     ]
    }
   ],
   "source": [
    "#To print complete List\n",
    "print(bikes[:])"
   ]
  },
  {
   "cell_type": "code",
   "execution_count": 71,
   "metadata": {},
   "outputs": [],
   "source": [
    "# To print first 2 elements"
   ]
  },
  {
   "cell_type": "code",
   "execution_count": 74,
   "metadata": {},
   "outputs": [
    {
     "name": "stdout",
     "output_type": "stream",
     "text": [
      "['Ducati', 'Harley-Davidson']\n"
     ]
    }
   ],
   "source": [
    "print(bikes[ : 2])"
   ]
  },
  {
   "cell_type": "code",
   "execution_count": 77,
   "metadata": {},
   "outputs": [
    {
     "name": "stdout",
     "output_type": "stream",
     "text": [
      "['Harley-Davidson', 'Roadmaster', 'BMW', 'Royal Enfield']\n"
     ]
    }
   ],
   "source": [
    "#To print 2nd, 3rd , 4th and 5th value\n",
    "print( bikes[1 :5])"
   ]
  },
  {
   "cell_type": "markdown",
   "metadata": {},
   "source": [
    "Copying a List"
   ]
  },
  {
   "cell_type": "code",
   "execution_count": 83,
   "metadata": {},
   "outputs": [
    {
     "name": "stdout",
     "output_type": "stream",
     "text": [
      "Non medical Subjects : \n",
      "['Phy', 'Chem ', 'Eng', 'Maths', 'Bio']\n",
      "Medical Subjects : \n",
      "['Phy', 'Chem ', 'Eng', 'Maths', 'Bio']\n"
     ]
    }
   ],
   "source": [
    "non_medical_subjects = [\"Phy\" , \"Chem \" , \"Eng\"]\n",
    "medical_subjects = non_medical_subjects\n",
    "\n",
    "non_medical_subjects.append(\"Maths\")\n",
    "medical_subjects.append(\"Bio\")\n",
    "\n",
    "print(\"Non medical Subjects : \")\n",
    "print(non_medical_subjects)\n",
    "\n",
    "print(\"Medical Subjects : \")\n",
    "print(medical_subjects)\n"
   ]
  },
  {
   "cell_type": "code",
   "execution_count": null,
   "metadata": {},
   "outputs": [],
   "source": []
  }
 ],
 "metadata": {
  "kernelspec": {
   "display_name": "Python 3",
   "language": "python",
   "name": "python3"
  },
  "language_info": {
   "codemirror_mode": {
    "name": "ipython",
    "version": 3
   },
   "file_extension": ".py",
   "mimetype": "text/x-python",
   "name": "python",
   "nbconvert_exporter": "python",
   "pygments_lexer": "ipython3",
   "version": "3.7.4"
  }
 },
 "nbformat": 4,
 "nbformat_minor": 2
}
