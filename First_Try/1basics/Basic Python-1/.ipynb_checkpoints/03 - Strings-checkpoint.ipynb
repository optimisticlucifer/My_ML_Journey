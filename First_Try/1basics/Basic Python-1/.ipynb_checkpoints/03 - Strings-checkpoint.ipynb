{
 "cells": [
  {
   "cell_type": "markdown",
   "metadata": {},
   "source": [
    "STRINGS"
   ]
  },
  {
   "cell_type": "markdown",
   "metadata": {},
   "source": [
    "1.) String Creation\n",
    "2.) Printing Strings\n",
    "3.) String Indexing and Slicing\n",
    "4.) String Properties\n",
    "5.) String Methods\n",
    "6.) Print Formatting"
   ]
  },
  {
   "cell_type": "code",
   "execution_count": 8,
   "metadata": {},
   "outputs": [],
   "source": [
    "s2 = \"Demo\"\n",
    "s= \"This is my first string.\\nThis is my \\t\\t\\t\\t\\tsecond string\""
   ]
  },
  {
   "cell_type": "code",
   "execution_count": 9,
   "metadata": {},
   "outputs": [
    {
     "name": "stdout",
     "output_type": "stream",
     "text": [
      "This is my first string.\n",
      "This is my \t\t\t\t\tsecond string\n",
      "Demo\n",
      "<class 'str'>\n"
     ]
    }
   ],
   "source": [
    "#creating string\n",
    "print(s)\n",
    "print(s2)\n",
    "print(type(s2))"
   ]
  },
  {
   "cell_type": "code",
   "execution_count": null,
   "metadata": {},
   "outputs": [],
   "source": [
    "#printing string\n",
    "print(s)\n",
    "print(s2)\n",
    "\n",
    "D =0      -4\n",
    "e = 1     -3\n",
    "m = 2     -2\n",
    "o =3      -1\n"
   ]
  },
  {
   "cell_type": "code",
   "execution_count": 11,
   "metadata": {},
   "outputs": [
    {
     "data": {
      "text/plain": [
       "'o'"
      ]
     },
     "execution_count": 11,
     "metadata": {},
     "output_type": "execute_result"
    }
   ],
   "source": [
    "#string indexing\n",
    "s2[3]"
   ]
  },
  {
   "cell_type": "code",
   "execution_count": 12,
   "metadata": {},
   "outputs": [
    {
     "name": "stdout",
     "output_type": "stream",
     "text": [
      "V\n"
     ]
    }
   ],
   "source": [
    "s = \"Daman Virdi\"\n",
    "\n",
    "#Output should be V\n",
    "print(s[6])"
   ]
  },
  {
   "cell_type": "code",
   "execution_count": null,
   "metadata": {},
   "outputs": [],
   "source": [
    "string [ start :end : jump]"
   ]
  },
  {
   "cell_type": "code",
   "execution_count": 56,
   "metadata": {},
   "outputs": [
    {
     "name": "stdout",
     "output_type": "stream",
     "text": [
      "DemoPython\n",
      "DemoPython\n",
      "Dem\n",
      "hon\n"
     ]
    }
   ],
   "source": [
    "s = \"DemoPython\"\n",
    "\n",
    "#To print oPyth\n",
    "\n",
    "#print(s[3:8])\n",
    "\n",
    "#print(s[-7 : -2])\n",
    "#print(s[-7:8])\n",
    "#print(s[8:3])\n",
    "#to print \"emoPy\"\n",
    "#print(s[1:6])\n",
    "print(s)\n",
    "#To print Python\n",
    "print(s[-10 : ])\n",
    "\n",
    "#Print 3 letters from start\n",
    "s =\"DemoPython\"\n",
    "print(s[ : 3])\n",
    "\n",
    "#Print 3 letters from end\n",
    "print(s[-3:])\n",
    "#print(s[-1 : -4])"
   ]
  },
  {
   "cell_type": "code",
   "execution_count": 44,
   "metadata": {},
   "outputs": [
    {
     "name": "stdout",
     "output_type": "stream",
     "text": [
      "\n"
     ]
    }
   ],
   "source": [
    "\n",
    "print(s[-1 : -4])\n",
    "\n",
    "#jump = 1\n",
    "# start -1 \n",
    "#First value = start  ==-1\n",
    "#Second value = start +jump = -1+1 =0\n",
    "#Third Value = second value +jump = 0+1 =1"
   ]
  },
  {
   "cell_type": "code",
   "execution_count": 41,
   "metadata": {},
   "outputs": [
    {
     "name": "stdout",
     "output_type": "stream",
     "text": [
      "nohtyP\n",
      "nohtyP\n",
      "nohtyPomeD\n"
     ]
    }
   ],
   "source": [
    "s = \"DemoPython\"\n",
    "print(s[9 :3 : -1])\n",
    "print(s[ -1: -7 :-1])\n",
    "\n",
    "print(s[ : : -1])"
   ]
  },
  {
   "cell_type": "markdown",
   "metadata": {},
   "source": [
    "###### s = \"DemoPythonError\"\n",
    "\n",
    "#to print eoyhn\n",
    "\n",
    "print(s[1: 10 :2])\n",
    "\n",
    "#To print mtEr\n",
    "print(s[2 : 15 :4])\n",
    "\n",
    "#m -->2\n",
    "#t -->6"
   ]
  },
  {
   "cell_type": "code",
   "execution_count": 63,
   "metadata": {},
   "outputs": [
    {
     "name": "stdout",
     "output_type": "stream",
     "text": [
      "omeD\n",
      "\n"
     ]
    }
   ],
   "source": [
    "s = \"Demo\"\n",
    "print(s [ : :-1])\n",
    "\n",
    "s = \"DemoPythonError\"\n",
    "print(s[ 4 :10 ])\n",
    "\n",
    "print(s[-])"
   ]
  },
  {
   "cell_type": "code",
   "execution_count": null,
   "metadata": {},
   "outputs": [],
   "source": []
  },
  {
   "cell_type": "code",
   "execution_count": null,
   "metadata": {},
   "outputs": [],
   "source": [
    "#properties of string\n",
    "s1 = \"Hello\"\n",
    "s2 = \"World\"\n",
    "s1+ \" \" + \"everyone in the \"+s2"
   ]
  },
  {
   "cell_type": "code",
   "execution_count": null,
   "metadata": {},
   "outputs": [],
   "source": []
  },
  {
   "cell_type": "code",
   "execution_count": null,
   "metadata": {},
   "outputs": [],
   "source": [
    "s1 = \"daman virdi\"\n",
    "#built in methods\n",
    "#changing case\n",
    "print(s1.title())\n",
    "\n",
    "print(s1.upper())\n",
    "\n",
    "print(s1.lower())\n",
    "\n",
    "print(s1)"
   ]
  },
  {
   "cell_type": "code",
   "execution_count": null,
   "metadata": {},
   "outputs": [],
   "source": []
  },
  {
   "cell_type": "code",
   "execution_count": null,
   "metadata": {},
   "outputs": [],
   "source": [
    "#print formattings\n",
    "#adding whitespaces\n",
    "print(\"Daman\\nVirdi\")\n",
    "print(\"Daman\\tVirdi\")\n",
    "print(\"Daman\\n\\tVirdi\")"
   ]
  },
  {
   "cell_type": "code",
   "execution_count": null,
   "metadata": {},
   "outputs": [],
   "source": [
    "#stripping whitespaces\n",
    "s1 = \"  Daman  \"\n",
    "print(s1)\n",
    "print(s1.strip())\n",
    "print(s1.rstrip())\n",
    "print(s1.lstrip())\n",
    "s1 = s1.strip()\n",
    "print(s1)"
   ]
  },
  {
   "cell_type": "code",
   "execution_count": null,
   "metadata": {},
   "outputs": [],
   "source": [
    "#you can't use apostrophe within single quotes\n",
    "message = 'One of Python's strengths is its diverse community.'\n",
    "print(message)"
   ]
  },
  {
   "cell_type": "code",
   "execution_count": null,
   "metadata": {},
   "outputs": [],
   "source": [
    "#Formatting with placeholders"
   ]
  },
  {
   "cell_type": "code",
   "execution_count": null,
   "metadata": {},
   "outputs": [],
   "source": [
    "#Format conversion methods"
   ]
  },
  {
   "cell_type": "code",
   "execution_count": null,
   "metadata": {},
   "outputs": [],
   "source": [
    "#Padding and Precision of Floating Point Numbers"
   ]
  },
  {
   "cell_type": "code",
   "execution_count": null,
   "metadata": {},
   "outputs": [],
   "source": [
    "#Multiple Formatting"
   ]
  },
  {
   "cell_type": "code",
   "execution_count": null,
   "metadata": {},
   "outputs": [],
   "source": [
    "Python Crash Course by Erric MAthwes"
   ]
  },
  {
   "cell_type": "code",
   "execution_count": null,
   "metadata": {},
   "outputs": [],
   "source": []
  }
 ],
 "metadata": {
  "kernelspec": {
   "display_name": "Python 3",
   "language": "python",
   "name": "python3"
  },
  "language_info": {
   "codemirror_mode": {
    "name": "ipython",
    "version": 3
   },
   "file_extension": ".py",
   "mimetype": "text/x-python",
   "name": "python",
   "nbconvert_exporter": "python",
   "pygments_lexer": "ipython3",
   "version": "3.7.4"
  }
 },
 "nbformat": 4,
 "nbformat_minor": 2
}
