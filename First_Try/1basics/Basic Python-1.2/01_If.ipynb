{
 "cells": [
  {
   "cell_type": "markdown",
   "metadata": {},
   "source": [
    "= vs =="
   ]
  },
  {
   "cell_type": "code",
   "execution_count": 7,
   "metadata": {},
   "outputs": [],
   "source": [
    "# '=' means Assignment\n",
    "a = 11"
   ]
  },
  {
   "cell_type": "code",
   "execution_count": 9,
   "metadata": {},
   "outputs": [
    {
     "data": {
      "text/plain": [
       "11"
      ]
     },
     "execution_count": 9,
     "metadata": {},
     "output_type": "execute_result"
    }
   ],
   "source": [
    "a"
   ]
  },
  {
   "cell_type": "code",
   "execution_count": 8,
   "metadata": {},
   "outputs": [
    {
     "data": {
      "text/plain": [
       "True"
      ]
     },
     "execution_count": 8,
     "metadata": {},
     "output_type": "execute_result"
    }
   ],
   "source": [
    "# '==' means Comparison\n",
    "\n",
    "a ==11  "
   ]
  },
  {
   "cell_type": "code",
   "execution_count": null,
   "metadata": {},
   "outputs": [],
   "source": [
    "# '==' is case sensitive"
   ]
  },
  {
   "cell_type": "code",
   "execution_count": 10,
   "metadata": {},
   "outputs": [],
   "source": [
    "x = \"Daman\"\n",
    "y = \"daman\"\n"
   ]
  },
  {
   "cell_type": "code",
   "execution_count": 11,
   "metadata": {},
   "outputs": [
    {
     "data": {
      "text/plain": [
       "False"
      ]
     },
     "execution_count": 11,
     "metadata": {},
     "output_type": "execute_result"
    }
   ],
   "source": [
    "x == y"
   ]
  },
  {
   "cell_type": "code",
   "execution_count": 12,
   "metadata": {},
   "outputs": [
    {
     "data": {
      "text/plain": [
       "True"
      ]
     },
     "execution_count": 12,
     "metadata": {},
     "output_type": "execute_result"
    }
   ],
   "source": [
    "#Best Practice for Comparison\n",
    "#Always Convert both parties to same case\n",
    "\n",
    "x.lower() == y.lower()"
   ]
  },
  {
   "cell_type": "markdown",
   "metadata": {},
   "source": [
    "INEQUALITY  !="
   ]
  },
  {
   "cell_type": "code",
   "execution_count": 13,
   "metadata": {},
   "outputs": [
    {
     "name": "stdout",
     "output_type": "stream",
     "text": [
      "True\n"
     ]
    }
   ],
   "source": [
    "x = \"daman\"\n",
    "y = \"Daman\"\n",
    "print(x != y)\n"
   ]
  },
  {
   "cell_type": "code",
   "execution_count": null,
   "metadata": {},
   "outputs": [],
   "source": [
    "x = \"Daman\"\n",
    "y = \"daman\"\n",
    "print(x != y)\n",
    "\n",
    "a = 15\n",
    "b = 15\n",
    "print(a != b)\n",
    "\n",
    "ans = 15\n",
    "if ans != 15:\n",
    "    print(\"Wrong Ans\")\n",
    "\n",
    "if condition:\n",
    "    do something\n",
    "    xyz\n",
    "    abc\n",
    "abc\n",
    "abs"
   ]
  },
  {
   "cell_type": "code",
   "execution_count": null,
   "metadata": {},
   "outputs": [],
   "source": [
    "if condition:\n",
    "    do something\n",
    "    xyz\n",
    "    abc\n",
    "qwe"
   ]
  },
  {
   "cell_type": "code",
   "execution_count": 15,
   "metadata": {},
   "outputs": [
    {
     "name": "stdout",
     "output_type": "stream",
     "text": [
      "Wrong Ans\n",
      "Result Declared\n"
     ]
    }
   ],
   "source": [
    "ans = 15\n",
    "if ans != 15:\n",
    "    print(\"Wrong Ans\")\n",
    "\n",
    "print(\"Result Declared\")"
   ]
  },
  {
   "cell_type": "markdown",
   "metadata": {},
   "source": [
    "Checking Multiple Conditions"
   ]
  },
  {
   "cell_type": "markdown",
   "metadata": {},
   "source": [
    "Using AND\n"
   ]
  },
  {
   "cell_type": "code",
   "execution_count": 17,
   "metadata": {},
   "outputs": [
    {
     "name": "stdout",
     "output_type": "stream",
     "text": [
      "Ohho!!\n"
     ]
    }
   ],
   "source": [
    "fuel = True\n",
    "service = True\n",
    "money = False\n",
    "\n",
    "if fuel and service and money:\n",
    "    print(\"Yayy! We'll go on a vacation!\")\n",
    "\n",
    "print(\"Ohho!!\")"
   ]
  },
  {
   "cell_type": "markdown",
   "metadata": {},
   "source": [
    "Using Or"
   ]
  },
  {
   "cell_type": "code",
   "execution_count": 19,
   "metadata": {},
   "outputs": [],
   "source": [
    "Holiday = False\n",
    "Birthday = False\n",
    "\n",
    "if Holiday or Birthday:\n",
    "    print(\"Yayy! We'll go on a vacation!\")\n",
    "    \n"
   ]
  },
  {
   "cell_type": "code",
   "execution_count": 20,
   "metadata": {},
   "outputs": [
    {
     "name": "stdout",
     "output_type": "stream",
     "text": [
      "You would get a bike!!\n",
      "Hurray\n",
      "You need to work harder to get a bike!!\n"
     ]
    }
   ],
   "source": [
    "age = 19\n",
    "marks = 60\n",
    "\n",
    "if age >= 18 or marks > 90:\n",
    "    print(\"You would get a bike!!\")    ###---1\n",
    "    print(\"Hurray\")                    ###---2\n",
    "    \n",
    "    \n",
    "if age <= 18 or marks <=90:\n",
    "    print(\"You need to work harder to get a bike!!\") ###-3"
   ]
  },
  {
   "cell_type": "markdown",
   "metadata": {},
   "source": [
    "Checking if a Value is in a List\n"
   ]
  },
  {
   "cell_type": "code",
   "execution_count": 23,
   "metadata": {},
   "outputs": [
    {
     "name": "stdout",
     "output_type": "stream",
     "text": [
      "we have a cloth\n"
     ]
    }
   ],
   "source": [
    "luggage = [\"clothes\" , \"charger\" , \"shoes\"]\n",
    "\n",
    "\n",
    "x = \"clothes\"\n",
    "if  x in luggage:\n",
    "    print(\"we have a cloth\")"
   ]
  },
  {
   "cell_type": "markdown",
   "metadata": {},
   "source": [
    "Checking if a Value is not in a List"
   ]
  },
  {
   "cell_type": "code",
   "execution_count": 22,
   "metadata": {},
   "outputs": [
    {
     "name": "stdout",
     "output_type": "stream",
     "text": [
      "we do not have a novel\n",
      "WElcome\n"
     ]
    }
   ],
   "source": [
    "luggage = [\"clothes\" , \"charger\" , \"shoes\"]\n",
    "if  \"novel\"  not in luggage:\n",
    "    print(\"we do not have a novel\")\n",
    "    \n",
    "print(\"WElcome\")"
   ]
  },
  {
   "cell_type": "code",
   "execution_count": null,
   "metadata": {},
   "outputs": [],
   "source": []
  },
  {
   "cell_type": "markdown",
   "metadata": {},
   "source": [
    "IF STATEMENT"
   ]
  },
  {
   "cell_type": "markdown",
   "metadata": {},
   "source": [
    "if conditional_test:\n",
    "    do something"
   ]
  },
  {
   "cell_type": "code",
   "execution_count": 25,
   "metadata": {},
   "outputs": [
    {
     "name": "stdout",
     "output_type": "stream",
     "text": [
      "Wait to grow up!!\n"
     ]
    }
   ],
   "source": [
    "age = 3\n",
    "money = 10000\n",
    "\n",
    "if age > 18:\n",
    "    print(\"Hurray! You can drive!! \")                    # ----1\n",
    "    print(\" We can add one more line over here\")         #-----2\n",
    "    \n",
    "    if money > 8000:\n",
    "                print(\"When are you planning a Ladhak ride!!\")   #-----3\n",
    " \n",
    "else:\n",
    "    print(\"Wait to grow up!!\")                           #------4\n",
    "    "
   ]
  },
  {
   "cell_type": "markdown",
   "metadata": {},
   "source": [
    "IF ElSE STATEMENT"
   ]
  },
  {
   "cell_type": "markdown",
   "metadata": {},
   "source": [
    "if conditional_test pass:\n",
    "    do something\n",
    "else:\n",
    "    do something else"
   ]
  },
  {
   "cell_type": "code",
   "execution_count": 26,
   "metadata": {},
   "outputs": [
    {
     "name": "stdout",
     "output_type": "stream",
     "text": [
      "9 is greater\n",
      "Else wins\n"
     ]
    }
   ],
   "source": [
    "if 8>9:\n",
    "    print(\"8 is greater\")\n",
    "else:\n",
    "    print(\"9 is greater\")\n",
    "    print(\"Else wins\")"
   ]
  },
  {
   "cell_type": "code",
   "execution_count": null,
   "metadata": {},
   "outputs": [],
   "source": [
    "age = 12\n",
    "money = False\n",
    "\n",
    "if age > 18:\n",
    "    print(\"Hurray! You can drive!! \")\n",
    "    print(\"When are you planning a Ladhak ride!!\")\n",
    "    \n",
    "else:\n",
    "    print(\"Be a pillion\")\n",
    "    if money:\n",
    "        print(\"Wekcome\")"
   ]
  },
  {
   "cell_type": "markdown",
   "metadata": {},
   "source": [
    "IF ELIF ELSE STATEMENT"
   ]
  },
  {
   "cell_type": "markdown",
   "metadata": {},
   "source": [
    "if conditional_test pass:\n",
    "    do something\n",
    "elif:\n",
    "    do something else\n",
    "else:\n",
    "    by default"
   ]
  },
  {
   "cell_type": "code",
   "execution_count": null,
   "metadata": {},
   "outputs": [],
   "source": [
    "money = 450\n",
    "\n",
    "if money>130000:\n",
    "    print(\"Purchase Iphone!!\")\n",
    "elif money>13000:\n",
    "    print(\"Purchase Android!!\")\n",
    "elif money >4000:\n",
    "    print(\"Borrow money\")\n",
    "else:\n",
    "    print(\"Enjoy with your Landline!!\")\n",
    "\n",
    "    \n",
    "#you can have multiple elif and can also exclude else\n",
    "#  1 , 2 , 3 ,5 , 7, 8 ,"
   ]
  },
  {
   "cell_type": "code",
   "execution_count": null,
   "metadata": {},
   "outputs": [],
   "source": [
    "#USING IF TO CHECK IF LIST IS EMPTY\n",
    "\n",
    "skills = [\"dance\" , \"singing\" , \"comedy\"]\n",
    "\n",
    "\n",
    "\n",
    "\n",
    "\n",
    "#skills =[]\n",
    "if skills:\n",
    "    print(skills)\n",
    "else:\n",
    "    print(\"You are such a useless person!!\")\n",
    "    "
   ]
  },
  {
   "cell_type": "code",
   "execution_count": null,
   "metadata": {},
   "outputs": [],
   "source": []
  },
  {
   "cell_type": "code",
   "execution_count": null,
   "metadata": {},
   "outputs": [],
   "source": []
  },
  {
   "cell_type": "code",
   "execution_count": null,
   "metadata": {},
   "outputs": [],
   "source": [
    "cars = ['audi' , 'bmw' , 'toyota']\n",
    "\n",
    "for car in cars:\n",
    "    if car == 'bmw':\n",
    "        print(car.upper())\n",
    "    else:\n",
    "        print(car.title())"
   ]
  },
  {
   "cell_type": "code",
   "execution_count": null,
   "metadata": {},
   "outputs": [],
   "source": []
  }
 ],
 "metadata": {
  "kernelspec": {
   "display_name": "Python 3",
   "language": "python",
   "name": "python3"
  },
  "language_info": {
   "codemirror_mode": {
    "name": "ipython",
    "version": 3
   },
   "file_extension": ".py",
   "mimetype": "text/x-python",
   "name": "python",
   "nbconvert_exporter": "python",
   "pygments_lexer": "ipython3",
   "version": "3.7.4"
  }
 },
 "nbformat": 4,
 "nbformat_minor": 2
}
